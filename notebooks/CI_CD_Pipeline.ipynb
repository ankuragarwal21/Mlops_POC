{
 "cells": [
  {
   "cell_type": "code",
   "execution_count": 0,
   "metadata": {
    "application/vnd.databricks.v1+cell": {
     "cellMetadata": {
      "byteLimit": 2048000,
      "rowLimit": 10000
     },
     "inputWidgets": {},
     "nuid": "ddcc76b5-da95-4dcf-95e5-2c0e9215db5e",
     "showTitle": false,
     "tableResultSettingsMap": {},
     "title": ""
    }
   },
   "outputs": [],
   "source": [
    "# -------------------------------\n",
    "# Installing all required libraries and dependencies\n",
    "# -------------------------------\n",
    "%pip install --force-reinstall --no-cache-dir \\\n",
    "  numpy==1.25.2 \\\n",
    "  pandas==2.1.3 \\\n",
    "  scikit-learn==1.3.2 \\\n",
    "  jax==0.4.25 \\\n",
    "  jaxlib==0.4.25 \\\n",
    "  numpyro==0.13.2 \\\n",
    "  lightweight-mmm==0.1.9 \\\n",
    "  mlflow \\\n",
    "  openpyxl"
   ]
  },
  {
   "cell_type": "code",
   "execution_count": 0,
   "metadata": {
    "application/vnd.databricks.v1+cell": {
     "cellMetadata": {
      "byteLimit": 2048000,
      "rowLimit": 10000
     },
     "inputWidgets": {},
     "nuid": "20f7e130-9cc4-4437-8512-135d0d194246",
     "showTitle": false,
     "tableResultSettingsMap": {},
     "title": ""
    }
   },
   "outputs": [],
   "source": [
    "# -------------------------------\n",
    "# Restarting python after installing new libraries\n",
    "# -------------------------------\n",
    "dbutils.library.restartPython()"
   ]
  },
  {
   "cell_type": "code",
   "execution_count": 0,
   "metadata": {
    "application/vnd.databricks.v1+cell": {
     "cellMetadata": {
      "byteLimit": 2048000,
      "rowLimit": 10000
     },
     "inputWidgets": {},
     "nuid": "68509698-7f05-4b91-a1b0-66494a8043de",
     "showTitle": false,
     "tableResultSettingsMap": {},
     "title": ""
    }
   },
   "outputs": [],
   "source": [
    "# -------------------------------\n",
    "# Importing all relevant libraries\n",
    "# -------------------------------\n",
    "\n",
    "# Library to suppress warnings or deprecation notes\n",
    "import warnings\n",
    "\n",
    "warnings.filterwarnings(\"ignore\")\n",
    "\n",
    "from sklearn import metrics\n",
    "from datetime import datetime\n",
    "\n",
    "import mlflow\n",
    "import numpyro\n",
    "import warnings\n",
    "import itertools\n",
    "import arviz as az\n",
    "import numpy as np\n",
    "import pandas as pd\n",
    "import mlflow.pyfunc\n",
    "import mlflow.sklearn \n",
    "import jax.numpy as jnp\n",
    "import databricks.connect as db_connect\n",
    "import mlflow.tracking._model_registry.utils\n",
    "from sklearn import datasets\n",
    "from itertools import cycle\n",
    "from sklearn.model_selection import train_test_split\n",
    "from sklearn.linear_model import ElasticNet, lasso_path, enet_path\n",
    "from sklearn.metrics import mean_squared_error, r2_score,mean_absolute_error\n",
    "\n",
    "# libaries to help with data visualization\n",
    "import matplotlib.pyplot as plt\n",
    "import seaborn as sns"
   ]
  },
  {
   "cell_type": "code",
   "execution_count": 0,
   "metadata": {
    "application/vnd.databricks.v1+cell": {
     "cellMetadata": {
      "byteLimit": 2048000,
      "rowLimit": 10000
     },
     "inputWidgets": {},
     "nuid": "6d4c5b86-eb8d-4987-b127-b58c8edef8a4",
     "showTitle": false,
     "tableResultSettingsMap": {},
     "title": ""
    }
   },
   "outputs": [],
   "source": [
    "# Databricks notebook source\n",
    "def add(a, b):\n",
    "\n",
    "    return a + b\n",
    "\n",
    "def product(a, b):\n",
    "\n",
    "    return a * b\n",
    "\n",
    "add(5, 2), product(10, 2)"
   ]
  }
 ],
 "metadata": {
  "application/vnd.databricks.v1+notebook": {
   "computePreferences": null,
   "dashboards": [],
   "environmentMetadata": {
    "base_environment": "",
    "environment_version": "3"
   },
   "inputWidgetPreferences": null,
   "language": "python",
   "notebookMetadata": {
    "pythonIndentUnit": 4
   },
   "notebookName": "CI_CD_Pipeline",
   "widgets": {}
  },
  "language_info": {
   "name": "python"
  }
 },
 "nbformat": 4,
 "nbformat_minor": 0
}
