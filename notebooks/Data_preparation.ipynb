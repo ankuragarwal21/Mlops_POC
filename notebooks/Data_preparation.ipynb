{
 "cells": [
  {
   "cell_type": "markdown",
   "metadata": {
    "application/vnd.databricks.v1+cell": {
     "cellMetadata": {},
     "inputWidgets": {},
     "nuid": "49680b91-156c-4251-b2eb-faecfa61ae37",
     "showTitle": false,
     "tableResultSettingsMap": {},
     "title": ""
    }
   },
   "source": [
    "#### Import Required Libraries"
   ]
  },
  {
   "cell_type": "code",
   "execution_count": 0,
   "metadata": {
    "application/vnd.databricks.v1+cell": {
     "cellMetadata": {
      "byteLimit": 2048000,
      "rowLimit": 10000
     },
     "inputWidgets": {},
     "nuid": "f1e25d00-2f64-45ae-9b54-f7e36fb6e34c",
     "showTitle": false,
     "tableResultSettingsMap": {},
     "title": ""
    }
   },
   "outputs": [],
   "source": [
    "# Library to suppress warnings or deprecation notes\n",
    "import warnings\n",
    "\n",
    "warnings.filterwarnings(\"ignore\")\n",
    "\n",
    "# Libraries to help with reading and manipulating data\n",
    "\n",
    "import pandas as pd\n",
    "import numpy as np\n",
    "\n",
    "# Library to split data\n",
    "from sklearn.model_selection import train_test_split\n",
    "\n",
    "# libaries to help with data visualization\n",
    "import matplotlib.pyplot as plt\n",
    "import seaborn as sns\n",
    "\n",
    "# Removes the limit for the number of displayed columns\n",
    "pd.set_option(\"display.max_columns\", None)\n",
    "# Sets the limit for the number of displayed rows\n",
    "pd.set_option(\"display.max_rows\", 200)\n",
    "\n",
    "# Libraries to build decision tree classifier\n",
    "from sklearn.tree import DecisionTreeClassifier\n",
    "from sklearn import tree\n",
    "\n",
    "# To tune different models\n",
    "from sklearn.model_selection import GridSearchCV\n",
    "\n",
    "# To perform statistical analysis\n",
    "import scipy.stats as stats\n",
    "\n",
    "# To get diferent metric scores\n",
    "from sklearn import metrics"
   ]
  },
  {
   "cell_type": "code",
   "execution_count": 0,
   "metadata": {
    "application/vnd.databricks.v1+cell": {
     "cellMetadata": {
      "byteLimit": 2048000,
      "rowLimit": 10000
     },
     "inputWidgets": {},
     "nuid": "25cb0cf7-8635-48a8-a85f-8ac86eea0207",
     "showTitle": false,
     "tableResultSettingsMap": {},
     "title": ""
    }
   },
   "outputs": [],
   "source": [
    "# -------------------------------\n",
    "# Load data from snowflake and converting it into pandas dataframe\n",
    "# -------------------------------\n",
    "path=\"/Workspace/Users/ankur242199@exlservice.com/Data_Files/\"\n",
    "df = pd.read_csv(path+ \"Dow Jones - POC dataset - modified_poc_dataset.csv\")\n",
    "df.head()"
   ]
  },
  {
   "cell_type": "markdown",
   "metadata": {
    "application/vnd.databricks.v1+cell": {
     "cellMetadata": {
      "byteLimit": 2048000,
      "rowLimit": 10000
     },
     "inputWidgets": {},
     "nuid": "ef0882b5-c59a-425f-bf11-28b774e5e89a",
     "showTitle": true,
     "tableResultSettingsMap": {},
     "title": ""
    }
   },
   "source": [
    "##Data Overview\n",
    "\n",
    "* Observations \n",
    "* Sanity Checks"
   ]
  },
  {
   "cell_type": "code",
   "execution_count": 0,
   "metadata": {
    "application/vnd.databricks.v1+cell": {
     "cellMetadata": {
      "byteLimit": 2048000,
      "rowLimit": 10000
     },
     "inputWidgets": {},
     "nuid": "ed813ab9-f807-4e8e-b4d6-b0dd4739807d",
     "showTitle": false,
     "tableResultSettingsMap": {},
     "title": ""
    }
   },
   "outputs": [],
   "source": [
    "# Converting all columns to upper case\n",
    "df.columns = [i.upper() for i in df.columns]\n",
    "df.head()"
   ]
  },
  {
   "cell_type": "code",
   "execution_count": 0,
   "metadata": {
    "application/vnd.databricks.v1+cell": {
     "cellMetadata": {
      "byteLimit": 2048000,
      "rowLimit": 10000
     },
     "inputWidgets": {},
     "nuid": "d6b485a0-44ee-4dff-9a65-1a7284d2034f",
     "showTitle": false,
     "tableResultSettingsMap": {},
     "title": ""
    }
   },
   "outputs": [],
   "source": [
    "# -------------------------------\n",
    "# Checking Min and Max data\n",
    "# -------------------------------\n",
    "df['WEEK_START'].min(), df['WEEK_START'].max()"
   ]
  },
  {
   "cell_type": "code",
   "execution_count": 0,
   "metadata": {
    "application/vnd.databricks.v1+cell": {
     "cellMetadata": {
      "byteLimit": 2048000,
      "rowLimit": 10000
     },
     "inputWidgets": {},
     "nuid": "454957d6-5a77-4411-8244-bd3f9867fd57",
     "showTitle": false,
     "tableResultSettingsMap": {},
     "title": ""
    }
   },
   "outputs": [],
   "source": [
    "# -------------------------------\n",
    "# Checking all columns available\n",
    "# -------------------------------\n",
    "df.columns"
   ]
  },
  {
   "cell_type": "code",
   "execution_count": 0,
   "metadata": {
    "application/vnd.databricks.v1+cell": {
     "cellMetadata": {
      "byteLimit": 2048000,
      "rowLimit": 10000
     },
     "inputWidgets": {},
     "nuid": "3aed2ad2-f93e-4d78-9a24-0d09aef4b253",
     "showTitle": false,
     "tableResultSettingsMap": {},
     "title": ""
    }
   },
   "outputs": [],
   "source": [
    "# -------------------------------\n",
    "# Creating Month and week number variable : If date is greater than equal to 28, month indicator increased by 1 and \n",
    "# week number reset to 1 \n",
    "# -------------------------------\n",
    "df[\"WEEK_START\"] = pd.to_datetime(df[\"WEEK_START\"])\n",
    "df[\"CUSTOM_MONTH\"] = (df[\"WEEK_START\"].dt.month \n",
    "                      + (df[\"WEEK_START\"].dt.day >= 28)).astype(int)\n",
    "\n",
    "# Sequential month counter (1, 2, 3, …)\n",
    "df[\"MONTH_NUM\"] = (df[\"CUSTOM_MONTH\"] != df[\"CUSTOM_MONTH\"].shift()).cumsum()\n",
    "\n",
    "# --- Step 2: Week counter within each month ---\n",
    "df[\"WEEK_NO_IN_MONTH\"] = df.groupby(\"MONTH_NUM\").cumcount() + 1\n",
    "df[\"CUSTOM_MONTH\"] = np.where(df[\"CUSTOM_MONTH\"] == 13, 1, df[\"CUSTOM_MONTH\"])"
   ]
  },
  {
   "cell_type": "code",
   "execution_count": 0,
   "metadata": {
    "application/vnd.databricks.v1+cell": {
     "cellMetadata": {
      "byteLimit": 2048000,
      "rowLimit": 10000
     },
     "inputWidgets": {},
     "nuid": "bef7d510-659a-45ad-a12f-e015f02c4048",
     "showTitle": false,
     "tableResultSettingsMap": {},
     "title": ""
    }
   },
   "outputs": [],
   "source": [
    "# -------------------------------\n",
    "# Checking Min and Max values in above create variables\n",
    "# -------------------------------\n",
    "print(df['CUSTOM_MONTH'].min(), df['CUSTOM_MONTH'].max())\n",
    "print(df['MONTH_NUM'].min(), df['MONTH_NUM'].max())\n",
    "print(df['WEEK_NO_IN_MONTH'].min(), df['WEEK_NO_IN_MONTH'].max())\n",
    "\n",
    "# Dropping as not needed \n",
    "df = df.drop(columns = ['MONTH_NUM'])"
   ]
  },
  {
   "cell_type": "code",
   "execution_count": 0,
   "metadata": {
    "application/vnd.databricks.v1+cell": {
     "cellMetadata": {
      "byteLimit": 2048000,
      "rowLimit": 10000
     },
     "inputWidgets": {},
     "nuid": "372029da-0b16-4ae4-8955-a73c8e1d14e8",
     "showTitle": false,
     "tableResultSettingsMap": {},
     "title": ""
    }
   },
   "outputs": [],
   "source": [
    "df.describe(percentiles = [0.01, 0.025, 0.05, 0.1, 0.25, 0.5, 0.75, 0.90, 0.95, 0.975, 0.99])"
   ]
  },
  {
   "cell_type": "code",
   "execution_count": 0,
   "metadata": {
    "application/vnd.databricks.v1+cell": {
     "cellMetadata": {
      "byteLimit": 2048000,
      "rowLimit": 10000
     },
     "inputWidgets": {},
     "nuid": "6c4a263d-175c-4c73-bd95-d43555dc3e42",
     "showTitle": false,
     "tableResultSettingsMap": {},
     "title": ""
    }
   },
   "outputs": [],
   "source": [
    "# -------------------------------\n",
    "# Checking Shape of dataframe and length of media and control variables\n",
    "# -------------------------------\n",
    "df.shape"
   ]
  },
  {
   "cell_type": "code",
   "execution_count": 0,
   "metadata": {
    "application/vnd.databricks.v1+cell": {
     "cellMetadata": {
      "byteLimit": 2048000,
      "rowLimit": 10000
     },
     "inputWidgets": {},
     "nuid": "9d76a33e-1ad5-439a-9500-7015786f70fd",
     "showTitle": false,
     "tableResultSettingsMap": {},
     "title": ""
    }
   },
   "outputs": [],
   "source": [
    "# -------------------------------\n",
    "# Sorting data based on date column\n",
    "# -------------------------------\n",
    "df = df.sort_values('WEEK_START').reset_index(drop = True)"
   ]
  },
  {
   "cell_type": "markdown",
   "metadata": {
    "application/vnd.databricks.v1+cell": {
     "cellMetadata": {},
     "inputWidgets": {},
     "nuid": "28e9c205-301c-4821-b594-783c0d008b8c",
     "showTitle": false,
     "tableResultSettingsMap": {},
     "title": ""
    }
   },
   "source": [
    "#### Exploratory Data Analysis"
   ]
  },
  {
   "cell_type": "code",
   "execution_count": 0,
   "metadata": {
    "application/vnd.databricks.v1+cell": {
     "cellMetadata": {
      "byteLimit": 2048000,
      "rowLimit": 10000
     },
     "inputWidgets": {},
     "nuid": "d5f7b1d1-3e08-42f5-ab1b-2632ce9dba73",
     "showTitle": false,
     "tableResultSettingsMap": {},
     "title": ""
    }
   },
   "outputs": [],
   "source": [
    "# -------------------------------\n",
    "# Find correlation between media flags and Target variable(orders)\n",
    "# -------------------------------\n",
    "\n",
    "var = ['ASA_APP', 'BING_DISPLAY', 'BING_SEARCH', 'DV360_DISPLAY',\n",
    "       'DV360_DISPLAY_OR_OLV', 'FACEBOOK_SOCIAL', 'GOOGLE_DISPLAY',\n",
    "       'GOOGLE_DISPLAY_OR_OLV', 'GOOGLE_SEARCH', 'LINKEDIN_SOCIAL', 'META_APP',\n",
    "       'REDDIT_SOCIAL', 'SNAPCHAT_SOCIAL', 'TAPTICA_APP', 'TWITTER_SOCIAL',\n",
    "       'COMMISSIONS_AFFILIATE', 'PLACEMENT_AFFILIATE', 'BRAND_SPEND',\n",
    "       'REDBOX_APP', 'LIFTOFF_APP', 'ORDERS']\n",
    "\n",
    "corr = df[var].corr()\n",
    "\n",
    "# plot the heatmap\n",
    "\n",
    "plt.figure(figsize=(15, 7))\n",
    "sns.heatmap(corr, annot=True, vmin=-1, vmax=1, fmt=\".2f\", cmap=\"Spectral\")\n",
    "plt.show()"
   ]
  },
  {
   "cell_type": "markdown",
   "metadata": {
    "application/vnd.databricks.v1+cell": {
     "cellMetadata": {},
     "inputWidgets": {},
     "nuid": "d2231d44-7ab7-4bde-829d-854d73907d22",
     "showTitle": false,
     "tableResultSettingsMap": {},
     "title": ""
    }
   },
   "source": [
    "**Observations**\n",
    "* Orders have strong corrolations with GOOGLE_DISPLAY_OR_OLV, GOOGLE_SEARCH and FACEBOOK_SOCIAL"
   ]
  },
  {
   "cell_type": "markdown",
   "metadata": {
    "application/vnd.databricks.v1+cell": {
     "cellMetadata": {
      "byteLimit": 2048000,
      "rowLimit": 10000
     },
     "inputWidgets": {},
     "nuid": "ea83d8fa-ba35-4bac-90f8-f0c72dd26dea",
     "showTitle": false,
     "tableResultSettingsMap": {},
     "title": ""
    }
   },
   "source": [
    "#### Creating Train-Test Split"
   ]
  },
  {
   "cell_type": "code",
   "execution_count": 0,
   "metadata": {
    "application/vnd.databricks.v1+cell": {
     "cellMetadata": {
      "byteLimit": 2048000,
      "rowLimit": 10000
     },
     "inputWidgets": {},
     "nuid": "b8b59134-f57f-43c6-90cd-10bed7197508",
     "showTitle": false,
     "tableResultSettingsMap": {},
     "title": ""
    }
   },
   "outputs": [],
   "source": [
    "# -------------------------------\n",
    "# Parameters\n",
    "# -------------------------------\n",
    "total_rows = 184\n",
    "train_weeks = 130\n",
    "gap_weeks = 4  \n",
    "test_weeks = total_rows - (train_weeks + gap_weeks)\n",
    "\n",
    "# -------------------------------\n",
    "# Compute split indices\n",
    "# -------------------------------\n",
    "train_end = train_weeks\n",
    "test_start = train_end + gap_weeks\n",
    "\n",
    "# -------------------------------\n",
    "# Media variables\n",
    "# -------------------------------\n",
    "Train = df.iloc[:train_end].drop_duplicates().reset_index(drop = True)\n",
    "Test = df.iloc[test_start:].drop_duplicates().reset_index(drop = True)\n",
    "print(\"Checking Shapes:\", Train.shape, Test.shape)\n",
    "\n"
   ]
  },
  {
   "cell_type": "code",
   "execution_count": 0,
   "metadata": {
    "application/vnd.databricks.v1+cell": {
     "cellMetadata": {
      "byteLimit": 2048000,
      "rowLimit": 10000
     },
     "inputWidgets": {},
     "nuid": "4c68966a-076e-458c-a086-07f0ac69b361",
     "showTitle": false,
     "tableResultSettingsMap": {},
     "title": ""
    }
   },
   "outputs": [],
   "source": [
    "Train.describe()"
   ]
  },
  {
   "cell_type": "code",
   "execution_count": 0,
   "metadata": {
    "application/vnd.databricks.v1+cell": {
     "cellMetadata": {
      "byteLimit": 2048000,
      "rowLimit": 10000
     },
     "inputWidgets": {},
     "nuid": "c544386b-230d-4fec-9d2e-ff13f7f51f80",
     "showTitle": false,
     "tableResultSettingsMap": {},
     "title": ""
    }
   },
   "outputs": [],
   "source": [
    "Test.describe()"
   ]
  },
  {
   "cell_type": "code",
   "execution_count": 0,
   "metadata": {
    "application/vnd.databricks.v1+cell": {
     "cellMetadata": {
      "byteLimit": 2048000,
      "rowLimit": 10000
     },
     "inputWidgets": {},
     "nuid": "bd87d635-8760-4c08-b1b7-50191d521833",
     "showTitle": false,
     "tableResultSettingsMap": {},
     "title": ""
    }
   },
   "outputs": [],
   "source": [
    "# Save persistently\n",
    "df.to_csv(path+\"POC_Clean_Dataset.csv\", index=False)\n",
    "Train.to_csv(path+\"Train_Dataset.csv\", index=False)\n",
    "Test.to_csv(path+\"Test_Dataset.csv\", index=False)\n"
   ]
  }
 ],
 "metadata": {
  "application/vnd.databricks.v1+notebook": {
   "computePreferences": null,
   "dashboards": [],
   "environmentMetadata": {
    "base_environment": "",
    "environment_version": "3"
   },
   "inputWidgetPreferences": null,
   "language": "python",
   "notebookMetadata": {
    "pythonIndentUnit": 4
   },
   "notebookName": "Data_preparation",
   "widgets": {}
  },
  "language_info": {
   "name": "python"
  }
 },
 "nbformat": 4,
 "nbformat_minor": 0
}
