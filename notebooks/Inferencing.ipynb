{
 "cells": [
  {
   "cell_type": "code",
   "execution_count": 0,
   "metadata": {
    "application/vnd.databricks.v1+cell": {
     "cellMetadata": {
      "byteLimit": 2048000,
      "rowLimit": 10000
     },
     "collapsed": true,
     "inputWidgets": {},
     "nuid": "6dacef87-a082-4448-baea-0a9d4b93e130",
     "showTitle": false,
     "tableResultSettingsMap": {},
     "title": ""
    }
   },
   "outputs": [],
   "source": [
    "# -------------------------------\n",
    "# Installing all required libraries and dependencies\n",
    "# -------------------------------\n",
    "%pip install --force-reinstall --no-cache-dir \\\n",
    "  numpy==1.25.2 \\\n",
    "  pandas==2.1.3 \\\n",
    "  scikit-learn==1.3.2 \\\n",
    "  jax==0.4.25 \\\n",
    "  jaxlib==0.4.25 \\\n",
    "  numpyro==0.13.2 \\\n",
    "  lightweight-mmm==0.1.9 \\\n",
    "  mlflow \\\n",
    "  openpyxl"
   ]
  },
  {
   "cell_type": "code",
   "execution_count": 0,
   "metadata": {
    "application/vnd.databricks.v1+cell": {
     "cellMetadata": {
      "byteLimit": 2048000,
      "rowLimit": 10000
     },
     "inputWidgets": {},
     "nuid": "ec8628e4-68d5-4ee9-af64-df1dc29ff450",
     "showTitle": false,
     "tableResultSettingsMap": {},
     "title": ""
    }
   },
   "outputs": [],
   "source": [
    "# -------------------------------\n",
    "# Restarting python after installing new libraries\n",
    "# -------------------------------\n",
    "dbutils.library.restartPython()"
   ]
  },
  {
   "cell_type": "code",
   "execution_count": 0,
   "metadata": {
    "application/vnd.databricks.v1+cell": {
     "cellMetadata": {
      "byteLimit": 2048000,
      "rowLimit": 10000
     },
     "inputWidgets": {},
     "nuid": "dee6f5c5-eb89-456e-b1c5-23aeb6c0c161",
     "showTitle": false,
     "tableResultSettingsMap": {},
     "title": ""
    }
   },
   "outputs": [],
   "source": [
    "# -------------------------------\n",
    "# Importing all relevant libraries\n",
    "# -------------------------------\n",
    "from sklearn import metrics\n",
    "from datetime import datetime\n",
    "\n",
    "import mlflow\n",
    "import numpyro\n",
    "import warnings\n",
    "import itertools\n",
    "import arviz as az\n",
    "import numpy as np\n",
    "import pandas as pd\n",
    "import mlflow.pyfunc\n",
    "import mlflow.sklearn \n",
    "import jax.numpy as jnp\n",
    "import databricks.connect as db_connect\n",
    "import mlflow.tracking._model_registry.utils\n",
    "\n",
    "warnings.filterwarnings(\"ignore\")"
   ]
  },
  {
   "cell_type": "code",
   "execution_count": 0,
   "metadata": {
    "application/vnd.databricks.v1+cell": {
     "cellMetadata": {
      "byteLimit": 2048000,
      "rowLimit": 10000
     },
     "inputWidgets": {},
     "nuid": "eae3f20b-d190-4b67-b147-37675f4099bb",
     "showTitle": false,
     "tableResultSettingsMap": {},
     "title": ""
    }
   },
   "outputs": [],
   "source": [
    "# -------------------------------\n",
    "# Import the relevant modules of the lightweight mmm library\n",
    "# -------------------------------\n",
    "from lightweight_mmm import lightweight_mmm\n",
    "from lightweight_mmm import optimize_media\n",
    "from lightweight_mmm import plot\n",
    "from lightweight_mmm import preprocessing\n",
    "from lightweight_mmm import utils"
   ]
  },
  {
   "cell_type": "code",
   "execution_count": 0,
   "metadata": {
    "application/vnd.databricks.v1+cell": {
     "cellMetadata": {
      "byteLimit": 2048000,
      "rowLimit": 10000
     },
     "inputWidgets": {},
     "nuid": "4ab4b7e6-42e6-4b3a-920b-4e42f459b898",
     "showTitle": false,
     "tableResultSettingsMap": {},
     "title": ""
    }
   },
   "outputs": [],
   "source": [
    "# -------------------------------\n",
    "# Load data from snowflake and converting it into pandas dataframe\n",
    "# -------------------------------\n",
    "\n",
    "Test = pd.read_csv(\"/Workspace/Users/himanshu164137@exlservice.com/Test_Dataset.csv\")"
   ]
  },
  {
   "cell_type": "code",
   "execution_count": 0,
   "metadata": {
    "application/vnd.databricks.v1+cell": {
     "cellMetadata": {
      "byteLimit": 2048000,
      "rowLimit": 10000
     },
     "inputWidgets": {},
     "nuid": "66263aa3-121b-48af-92af-1cedd5d7f3da",
     "showTitle": false,
     "tableResultSettingsMap": {},
     "title": ""
    }
   },
   "outputs": [],
   "source": [
    "# Converting all columns to upper case\n",
    "Test.columns = [i.upper() for i in Test.columns]\n",
    "Test.head()"
   ]
  },
  {
   "cell_type": "code",
   "execution_count": 0,
   "metadata": {
    "application/vnd.databricks.v1+cell": {
     "cellMetadata": {
      "byteLimit": 2048000,
      "rowLimit": 10000
     },
     "inputWidgets": {},
     "nuid": "db5a544a-f1e0-4b16-86c8-fc0b48de0726",
     "showTitle": false,
     "tableResultSettingsMap": {},
     "title": ""
    }
   },
   "outputs": [],
   "source": [
    "# -------------------------------\n",
    "# Checking Min and Max data\n",
    "# -------------------------------\n",
    "Test['WEEK_START'].min(), Test['WEEK_START'].max()"
   ]
  },
  {
   "cell_type": "code",
   "execution_count": 0,
   "metadata": {
    "application/vnd.databricks.v1+cell": {
     "cellMetadata": {
      "byteLimit": 2048000,
      "rowLimit": 10000
     },
     "inputWidgets": {},
     "nuid": "87fca7b4-a25a-42b5-bda0-22174fc524b2",
     "showTitle": false,
     "tableResultSettingsMap": {},
     "title": ""
    }
   },
   "outputs": [],
   "source": [
    "# -------------------------------\n",
    "# Creating Month and week number variable : If date is greater than equal to 28, month indicator increased by 1 and \n",
    "# week number reset to 1 \n",
    "# -------------------------------\n",
    "Test[\"WEEK_START\"] = pd.to_datetime(Test[\"WEEK_START\"])\n",
    "Test[\"CUSTOM_MONTH\"] = (Test[\"WEEK_START\"].dt.month \n",
    "                      + (Test[\"WEEK_START\"].dt.day >= 28)).astype(int)\n",
    "\n",
    "# Sequential month counter (1, 2, 3, …)\n",
    "Test[\"MONTH_NUM\"] = (Test[\"CUSTOM_MONTH\"] != Test[\"CUSTOM_MONTH\"].shift()).cumsum()\n",
    "\n",
    "# --- Step 2: Week counter within each month ---\n",
    "Test[\"WEEK_NO_IN_MONTH\"] = Test.groupby(\"MONTH_NUM\").cumcount() + 1\n",
    "Test[\"CUSTOM_MONTH\"] = np.where(Test[\"CUSTOM_MONTH\"] == 13, 1, Test[\"CUSTOM_MONTH\"])"
   ]
  },
  {
   "cell_type": "code",
   "execution_count": 0,
   "metadata": {
    "application/vnd.databricks.v1+cell": {
     "cellMetadata": {
      "byteLimit": 2048000,
      "rowLimit": 10000
     },
     "inputWidgets": {},
     "nuid": "5f7a2166-a95b-43fe-975d-4a52584fddb6",
     "showTitle": false,
     "tableResultSettingsMap": {},
     "title": ""
    }
   },
   "outputs": [],
   "source": [
    "# -------------------------------\n",
    "# Checking Min and Max values in above create variables\n",
    "# -------------------------------\n",
    "print(Test['CUSTOM_MONTH'].min(), Test['CUSTOM_MONTH'].max())\n",
    "print(Test['MONTH_NUM'].min(), Test['MONTH_NUM'].max())\n",
    "print(Test['WEEK_NO_IN_MONTH'].min(), Test['WEEK_NO_IN_MONTH'].max())\n",
    "\n",
    "# Dropping as not needed \n",
    "Test = Test.drop(columns = ['MONTH_NUM'])"
   ]
  },
  {
   "cell_type": "code",
   "execution_count": 0,
   "metadata": {
    "application/vnd.databricks.v1+cell": {
     "cellMetadata": {
      "byteLimit": 2048000,
      "rowLimit": 10000
     },
     "inputWidgets": {},
     "nuid": "7cb19ce4-1896-4637-9127-aa787a04396a",
     "showTitle": false,
     "tableResultSettingsMap": {},
     "title": ""
    }
   },
   "outputs": [],
   "source": [
    "Test.describe(percentiles = [0.01, 0.025, 0.05, 0.1, 0.25, 0.5, 0.75, 0.90, 0.95, 0.975, 0.99])"
   ]
  },
  {
   "cell_type": "code",
   "execution_count": 0,
   "metadata": {
    "application/vnd.databricks.v1+cell": {
     "cellMetadata": {
      "byteLimit": 2048000,
      "rowLimit": 10000
     },
     "inputWidgets": {},
     "nuid": "76060e3c-e771-44d7-9262-3ed38a249ede",
     "showTitle": false,
     "tableResultSettingsMap": {},
     "title": ""
    }
   },
   "outputs": [],
   "source": [
    "# -------------------------------\n",
    "# Listing all media and control variables with target and date column \n",
    "# -------------------------------\n",
    "media_cols = ['ASA_APP', 'BING_DISPLAY', 'BING_SEARCH',\n",
    "       'DV360_DISPLAY_OR_OLV', 'FACEBOOK_SOCIAL',\n",
    "       'GOOGLE_DISPLAY_OR_OLV', 'GOOGLE_SEARCH', 'LINKEDIN_SOCIAL', 'META_APP',\n",
    "       'REDDIT_SOCIAL', 'TAPTICA_APP', 'TWITTER_SOCIAL',\n",
    "       'COMMISSIONS_AFFILIATE', 'PLACEMENT_AFFILIATE', 'REDBOX_APP', 'LIFTOFF_APP', 'BRAND_SPEND']\n",
    "control_cols = ['NEWS_ANOMALY', 'HOLIDAY_FLAG', 'SALE_FLAG', 'WSJ_EMAILS_TOTAL']\n",
    "target_col = 'ORDERS'\n",
    "date_col = 'WEEK_START'"
   ]
  },
  {
   "cell_type": "code",
   "execution_count": 0,
   "metadata": {
    "application/vnd.databricks.v1+cell": {
     "cellMetadata": {
      "byteLimit": 2048000,
      "rowLimit": 10000
     },
     "inputWidgets": {},
     "nuid": "bc800144-bc6b-4ccc-8a80-7066034a368d",
     "showTitle": false,
     "tableResultSettingsMap": {},
     "title": ""
    }
   },
   "outputs": [],
   "source": [
    "# -------------------------------\n",
    "# Sorting data based on date column and creating new dataframes for media, control, sales and cost\n",
    "# -------------------------------\n",
    "Test_df = Test.sort_values(date_col).reset_index(drop = True)\n",
    "\n",
    "# -------------------------------\n",
    "# Media variables\n",
    "# -------------------------------\n",
    "media_data_test = Test_df[media_cols].astype(float).to_numpy()\n",
    "print(\"Media shapes:\", media_data_test.shape)\n",
    "\n",
    "# -------------------------------\n",
    "# Control variables\n",
    "# -------------------------------\n",
    "control_data_test  = Test_df[control_cols].astype(float).to_numpy()\n",
    "print(\"Control shapes:\", control_data_test.shape)\n",
    "\n",
    "# -------------------------------\n",
    "# Target variable\n",
    "# -------------------------------\n",
    "target_test = Test_df[target_col].astype(float).to_numpy()\n",
    "print(\"Target shapes:\", target_test.shape)\n",
    "\n",
    "# -------------------------------\n",
    "# Costs variables\n",
    "# -------------------------------\n",
    "costs_test = Test_df[media_cols].sum(axis = 0).to_numpy()\n",
    "print(\"Costs shapes:\", costs_test.shape)\n"
   ]
  },
  {
   "cell_type": "code",
   "execution_count": 0,
   "metadata": {
    "application/vnd.databricks.v1+cell": {
     "cellMetadata": {
      "byteLimit": 2048000,
      "rowLimit": 10000
     },
     "inputWidgets": {},
     "nuid": "d901c73f-b893-4217-bf1d-13ca0d05f829",
     "showTitle": false,
     "tableResultSettingsMap": {},
     "title": ""
    }
   },
   "outputs": [],
   "source": [
    "# Use the run_id from the logging step\n",
    "scaler_run_id = \"0936a3efc66449bda432f7ba055e6c91\"\n",
    "\n",
    "# Download artifacts\n",
    "media_scaler_path   = mlflow.artifacts.download_artifacts(run_id=scaler_run_id, artifact_path=\"scalers/media_scaler.pkl\")\n",
    "target_scaler_path  = mlflow.artifacts.download_artifacts(run_id=scaler_run_id, artifact_path=\"scalers/target_scaler.pkl\")\n",
    "cost_scaler_path    = mlflow.artifacts.download_artifacts(run_id=scaler_run_id, artifact_path=\"scalers/cost_scaler.pkl\")\n",
    "control_scaler_path = mlflow.artifacts.download_artifacts(run_id=scaler_run_id, artifact_path=\"scalers/control_scaler.pkl\")\n"
   ]
  },
  {
   "cell_type": "code",
   "execution_count": 0,
   "metadata": {
    "application/vnd.databricks.v1+cell": {
     "cellMetadata": {
      "byteLimit": 2048000,
      "rowLimit": 10000
     },
     "inputWidgets": {},
     "nuid": "28df60ca-cc25-4ad8-9ac2-2b700f5885e2",
     "showTitle": false,
     "tableResultSettingsMap": {},
     "title": ""
    }
   },
   "outputs": [],
   "source": [
    "\n",
    "# Load them back\n",
    "import joblib\n",
    "media_scaler   = joblib.load(media_scaler_path)\n",
    "target_scaler  = joblib.load(target_scaler_path)\n",
    "cost_scaler    = joblib.load(cost_scaler_path)\n",
    "control_scaler = joblib.load(control_scaler_path)"
   ]
  },
  {
   "cell_type": "code",
   "execution_count": 0,
   "metadata": {
    "application/vnd.databricks.v1+cell": {
     "cellMetadata": {
      "byteLimit": 2048000,
      "rowLimit": 10000
     },
     "inputWidgets": {},
     "nuid": "8c625007-7221-44b7-a434-4905ad521a2c",
     "showTitle": false,
     "tableResultSettingsMap": {},
     "title": ""
    }
   },
   "outputs": [],
   "source": [
    "# -------------------------------\n",
    "# Scale media data (all columns)\n",
    "# -------------------------------\n",
    "media_data_test_scaled  = media_scaler.transform(media_data_test)\n",
    "\n",
    "# -------------------------------\n",
    "# Scale only 3rd column of control data (index 3)\n",
    "# -------------------------------\n",
    "\n",
    "# Test\n",
    "control_data_test_scaled = control_data_test.copy()\n",
    "control_data_test_scaled[:, 3] = control_scaler.transform(control_data_test[:, 3].reshape(-1, 1)).flatten()\n",
    "\n",
    "# -------------------------------\n",
    "# Scale target variable\n",
    "# -------------------------------\n",
    "target_test_scaled  = target_scaler.transform(target_test)\n",
    "\n",
    "# -------------------------------\n",
    "# Scale costs (all columns)\n",
    "# -------------------------------\n",
    "cost_test_scaled  = cost_scaler.transform(costs_test)\n"
   ]
  },
  {
   "cell_type": "code",
   "execution_count": 0,
   "metadata": {
    "application/vnd.databricks.v1+cell": {
     "cellMetadata": {
      "byteLimit": 2048000,
      "rowLimit": 10000
     },
     "inputWidgets": {},
     "nuid": "5ba71eb4-1ea9-4993-80fc-8c2192480bf8",
     "showTitle": false,
     "tableResultSettingsMap": {},
     "title": ""
    }
   },
   "outputs": [],
   "source": [
    "# Use the run_id from when you logged the model\n",
    "run_id = \"ae68467358f14d35b7de54ea7d36ac6f\"\n",
    "\n",
    "# Load back the model\n",
    "loaded_model = mlflow.sklearn.load_model(f\"runs:/{run_id}/model\")\n",
    "loaded_model\n"
   ]
  },
  {
   "cell_type": "code",
   "execution_count": 0,
   "metadata": {
    "application/vnd.databricks.v1+cell": {
     "cellMetadata": {
      "byteLimit": 2048000,
      "rowLimit": 10000
     },
     "inputWidgets": {},
     "nuid": "28a2a3a5-10bb-4112-89db-42ae59767b4e",
     "showTitle": false,
     "tableResultSettingsMap": {},
     "title": ""
    }
   },
   "outputs": [],
   "source": [
    "experiment_name = f\"/Users/himanshu164137@exlservice.com/lightweight_mmm_inference_{datetime.now().strftime('%Y%m%d_%H%M%S')}\"\n",
    "mlflow.set_experiment(experiment_name)\n",
    "with mlflow.start_run(run_name=experiment_name, nested=True):\n",
    "    # Predict on Test data (scaled)\n",
    "    posterior_pred_test = loaded_model.predict(\n",
    "        media=media_data_test_scaled,\n",
    "        extra_features=control_data_test_scaled\n",
    "    )\n",
    "\n",
    "    # Inverse transform predictions\n",
    "    posterior_pred_test_unscaled = target_scaler.inverse_transform(posterior_pred_test)\n",
    "\n",
    "    # Calculation Test R2\n",
    "    r2_test = az.r2_score(\n",
    "        y_true=target_test,\n",
    "        y_pred=posterior_pred_test_unscaled\n",
    "    )\n",
    "    test_r2 = r2_test.iloc[0]\n",
    "\n",
    "    # Calculating Test MAPE\n",
    "    test_mape = 100 * metrics.mean_absolute_percentage_error(\n",
    "        y_true=target_test,\n",
    "        y_pred=posterior_pred_test_unscaled.mean(axis=0)\n",
    "    )\n",
    "\n",
    "    # Calculating Test RMSE\n",
    "    test_rmse = np.sqrt(metrics.mean_squared_error(\n",
    "        y_true=target_test, \n",
    "        y_pred=posterior_pred_test_unscaled.mean(axis=0)\n",
    "    ))\n",
    "\n",
    "    # Logging Test artifacts\n",
    "    mlflow.log_metric(\"test_R2\", test_r2)\n",
    "    mlflow.log_metric(\"test_mape\", test_mape)\n",
    "    mlflow.log_metric(\"test_rmse\", test_rmse)"
   ]
  },
  {
   "cell_type": "code",
   "execution_count": 0,
   "metadata": {
    "application/vnd.databricks.v1+cell": {
     "cellMetadata": {
      "byteLimit": 2048000,
      "rowLimit": 10000
     },
     "inputWidgets": {},
     "nuid": "152b0b4c-bf1a-4f22-b816-29cdb4f88029",
     "showTitle": false,
     "tableResultSettingsMap": {},
     "title": ""
    }
   },
   "outputs": [],
   "source": [
    "# Inverse transform predictions & actuals\n",
    "posterior_pred_test_unscaled = target_scaler.inverse_transform(posterior_pred_test)\n",
    "plot.plot_out_of_sample_model_fit(out_of_sample_predictions=posterior_pred_test_unscaled,\n",
    "                                  out_of_sample_target=target_test)"
   ]
  },
  {
   "cell_type": "code",
   "execution_count": 0,
   "metadata": {
    "application/vnd.databricks.v1+cell": {
     "cellMetadata": {
      "byteLimit": 2048000,
      "rowLimit": 10000
     },
     "inputWidgets": {},
     "nuid": "b60b56c5-0f74-4cb7-b888-0cf96876aae8",
     "showTitle": false,
     "tableResultSettingsMap": {},
     "title": ""
    }
   },
   "outputs": [],
   "source": [
    "mean_predictions = posterior_pred_test_unscaled.mean(axis = 0)\n",
    "output_df = pd.DataFrame(mean_predictions)\n",
    "output_df.columns = ['Test_orders_prediction']"
   ]
  },
  {
   "cell_type": "code",
   "execution_count": 0,
   "metadata": {
    "application/vnd.databricks.v1+cell": {
     "cellMetadata": {
      "byteLimit": 2048000,
      "rowLimit": 10000
     },
     "inputWidgets": {},
     "nuid": "bd12a2e8-b9ef-4078-9f0a-b4dab44c1edf",
     "showTitle": false,
     "tableResultSettingsMap": {},
     "title": ""
    }
   },
   "outputs": [],
   "source": [
    "# Save persistently\n",
    "output_df.to_csv(\"/Workspace/Users/himanshu164137@exlservice.com/Test_Predictions.csv\", index=False)"
   ]
  }
 ],
 "metadata": {
  "application/vnd.databricks.v1+notebook": {
   "computePreferences": null,
   "dashboards": [],
   "environmentMetadata": {
    "base_environment": "",
    "environment_version": "3"
   },
   "inputWidgetPreferences": null,
   "language": "python",
   "notebookMetadata": {
    "pythonIndentUnit": 4
   },
   "notebookName": "Inferencing",
   "widgets": {}
  },
  "language_info": {
   "name": "python"
  }
 },
 "nbformat": 4,
 "nbformat_minor": 0
}
