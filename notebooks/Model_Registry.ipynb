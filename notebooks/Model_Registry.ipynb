{
 "cells": [
  {
   "cell_type": "code",
   "execution_count": 0,
   "metadata": {
    "application/vnd.databricks.v1+cell": {
     "cellMetadata": {
      "byteLimit": 2048000,
      "rowLimit": 10000
     },
     "inputWidgets": {},
     "nuid": "cd21ec6b-ba80-4b77-8b92-7950c8defc74",
     "showTitle": false,
     "tableResultSettingsMap": {},
     "title": ""
    }
   },
   "outputs": [],
   "source": [
    "# -------------------------------\n",
    "# Installing all required libraries and dependencies\n",
    "# -------------------------------\n",
    "%pip install --force-reinstall --no-cache-dir \\\n",
    "  numpy==1.25.2 \\\n",
    "  pandas==2.1.3 \\\n",
    "  scikit-learn==1.3.2 \\\n",
    "  jax==0.4.25 \\\n",
    "  jaxlib==0.4.25 \\\n",
    "  numpyro==0.13.2 \\\n",
    "  lightweight-mmm==0.1.9 \\\n",
    "  mlflow \\\n",
    "  openpyxl"
   ]
  },
  {
   "cell_type": "code",
   "execution_count": 0,
   "metadata": {
    "application/vnd.databricks.v1+cell": {
     "cellMetadata": {
      "byteLimit": 2048000,
      "rowLimit": 10000
     },
     "inputWidgets": {},
     "nuid": "244265b7-77a5-4110-b021-3caa2cb4d5b4",
     "showTitle": false,
     "tableResultSettingsMap": {},
     "title": ""
    }
   },
   "outputs": [],
   "source": [
    "# -------------------------------\n",
    "# Restarting python after installing new libraries\n",
    "# -------------------------------\n",
    "dbutils.library.restartPython()"
   ]
  },
  {
   "cell_type": "code",
   "execution_count": 0,
   "metadata": {
    "application/vnd.databricks.v1+cell": {
     "cellMetadata": {
      "byteLimit": 2048000,
      "rowLimit": 10000
     },
     "inputWidgets": {},
     "nuid": "6b4b88b1-6e73-4c61-87e1-c33bdb71ab75",
     "showTitle": false,
     "tableResultSettingsMap": {},
     "title": ""
    }
   },
   "outputs": [],
   "source": [
    "# -------------------------------\n",
    "# Importing all relevant libraries\n",
    "# -------------------------------\n",
    "\n",
    "# Library to suppress warnings or deprecation notes\n",
    "import warnings\n",
    "\n",
    "warnings.filterwarnings(\"ignore\")\n",
    "\n",
    "from sklearn import metrics\n",
    "from datetime import datetime\n",
    "\n",
    "import mlflow\n",
    "import numpyro\n",
    "import warnings\n",
    "import itertools\n",
    "import arviz as az\n",
    "import numpy as np\n",
    "import pandas as pd\n",
    "import mlflow.pyfunc\n",
    "import mlflow.sklearn \n",
    "import jax.numpy as jnp\n",
    "import databricks.connect as db_connect\n",
    "import mlflow.tracking._model_registry.utils\n",
    "from sklearn import datasets\n",
    "from itertools import cycle\n",
    "from sklearn.model_selection import train_test_split\n",
    "from sklearn.linear_model import ElasticNet, lasso_path, enet_path\n",
    "from sklearn.metrics import mean_squared_error, r2_score,mean_absolute_error\n",
    "\n",
    "# libaries to help with data visualization\n",
    "import matplotlib.pyplot as plt\n",
    "import seaborn as sns"
   ]
  },
  {
   "cell_type": "code",
   "execution_count": 0,
   "metadata": {
    "application/vnd.databricks.v1+cell": {
     "cellMetadata": {
      "byteLimit": 2048000,
      "rowLimit": 10000
     },
     "inputWidgets": {},
     "nuid": "5e2f9547-d10a-4298-a8cd-235d4fdd2817",
     "showTitle": false,
     "tableResultSettingsMap": {},
     "title": ""
    }
   },
   "outputs": [],
   "source": [
    "# -------------------------------\n",
    "# Set Experiment Name\n",
    "# -------------------------------\n",
    "path=\"/Workspace/Users/ankur242199@exlservice.com/Data_Files/\"\n",
    "exp_path=\"/Workspace/Users/ankur242199@exlservice.com/experiments/\"\n",
    "experiment_name = (path+ f\"lightweight_mmm_20250831_072528\")\n",
    "\n",
    "# -------------------------------\n",
    "# Load particular experiment runs:\n",
    "# -------------------------------\n",
    "print(experiment_name)\n",
    "experiment = mlflow.get_experiment_by_name(experiment_name) if mlflow.get_experiment_by_name(experiment_name) is not None else None\n",
    "print(experiment)\n",
    "\n",
    "# -------------------------------\n",
    "# Listing all iterations under given experiment id in pandas dataframe:# -------------------------------\n",
    "# -------------------------------\n",
    "runs_df = mlflow.search_runs(\n",
    "    experiment_ids=[experiment.experiment_id],\n",
    "    output_format=\"pandas\")\n",
    "\n",
    "# -------------------------------\n",
    "# Ensure numeric conversion for all required metrics:\n",
    "# -------------------------------\n",
    "for col in [\"metrics.train_r2\", \"metrics.test_r2\", \"metrics.train_mape\", \"metrics.test_mape\",\n",
    "            \"metrics.train_rmse\", \"metrics.test_rmse\"]:\n",
    "    if col in runs_df.columns:\n",
    "        runs_df[col] = pd.to_numeric(runs_df[col], errors=\"coerce\")"
   ]
  },
  {
   "cell_type": "code",
   "execution_count": 0,
   "metadata": {
    "application/vnd.databricks.v1+cell": {
     "cellMetadata": {
      "byteLimit": 2048000,
      "rowLimit": 10000
     },
     "inputWidgets": {},
     "nuid": "a35855da-2176-48ea-ab6c-faf51ffe5009",
     "showTitle": false,
     "tableResultSettingsMap": {},
     "title": ""
    }
   },
   "outputs": [],
   "source": [
    "# -------------------------------\n",
    "# Below logic is to select the best model from all the iterations\n",
    "# 1. Keep only models where the absolute difference between train R² and test R² is ≤ 5% of train R²\n",
    "# 2. a. From these, pick the model with the highest train R²\n",
    "#    b. If there are no models in Step 1, Find models whose train R² is within 95% of the maximum train R².\n",
    "#       Among these, pick the model with the smallest relative drop from train R² to test R².\n",
    "# -------------------------------\n",
    "\n",
    "# -------------------------------\n",
    "# Step 1: Filter models with abs(train R2 - test R2) < 5% of train R2\n",
    "# -------------------------------\n",
    "runs_df[\"r2_diff_pct\"] = abs(runs_df[\"metrics.train_R2\"] - runs_df[\"metrics.test_R2\"]) / runs_df[\"metrics.train_R2\"] * 100\n",
    "\n",
    "filtered_candidates = runs_df[runs_df[\"r2_diff_pct\"] <= 5].copy()\n",
    "\n",
    "if not filtered_candidates.empty:\n",
    "    # Step 2a: Pick model with maximum train R²\n",
    "    best_run = filtered_candidates.loc[filtered_candidates[\"metrics.train_R2\"].idxmax()]\n",
    "else:\n",
    "    # -------------------------------\n",
    "    # Step 2b: Fallback: previous logic\n",
    "    # -------------------------------\n",
    "    max_train_r2 = runs_df[\"metrics.train_R2\"].max()\n",
    "    threshold = max_train_r2 * 0.95  # within 5% of max\n",
    "\n",
    "    candidates = runs_df[runs_df[\"metrics.train_R2\"] >= threshold].copy()\n",
    "    candidates[\"r2_drop_pct\"] = ((candidates[\"metrics.train_R2\"] - candidates[\"metrics.test_R2\"]) / candidates[\"metrics.train_R2\"]) * 100\n",
    "\n",
    "    best_run = candidates.loc[candidates[\"r2_drop_pct\"].idxmin()]\n",
    "\n",
    "\n",
    "# -------------------------------\n",
    "# Display the final selected run\n",
    "# -------------------------------\n",
    "print(\"Final selected run:\")\n",
    "print(best_run[[\"artifact_uri\",\"run_id\", \"metrics.train_R2\", \"metrics.test_R2\", \"r2_diff_pct\"]])\n",
    "\n",
    "# -------------------------------\n",
    "#downloading the artifacts\n",
    "# -------------------------------\n",
    "artifact_uri = best_run[\"artifact_uri\"]\n",
    "run_id = best_run[\"run_id\"]\n",
    "\n",
    "# Correctly download the artifact using the run_id and artifact_path\n",
    "artifact_path = \"dbfs:/databricks/mlflow-tracking/2222958670772396/067e03eac67d44af9420bf0af22f6adf/artifacts/model-0.010000-0.010000/MLmodel\"\n",
    "print(\"Artifacts_path\")\n",
    "print(artifact_path)\n",
    "\n",
    "local_path = mlflow.artifacts.download_artifacts(\n",
    "    artifact_uri=artifact_path,\n",
    "    dst_path=exp_path\n",
    ")\n"
   ]
  },
  {
   "cell_type": "code",
   "execution_count": 0,
   "metadata": {
    "application/vnd.databricks.v1+cell": {
     "cellMetadata": {
      "byteLimit": 2048000,
      "rowLimit": 10000
     },
     "inputWidgets": {},
     "nuid": "86b90595-9fa7-4fcf-b0e7-079aabc97909",
     "showTitle": false,
     "tableResultSettingsMap": {},
     "title": ""
    }
   },
   "outputs": [],
   "source": [
    "model_name=\"sales_order_model\""
   ]
  },
  {
   "cell_type": "code",
   "execution_count": 0,
   "metadata": {
    "application/vnd.databricks.v1+cell": {
     "cellMetadata": {
      "byteLimit": 2048000,
      "rowLimit": 10000
     },
     "inputWidgets": {},
     "nuid": "925041e2-2b5d-4d16-a1c4-0e779aef1b70",
     "showTitle": false,
     "tableResultSettingsMap": {},
     "title": ""
    }
   },
   "outputs": [],
   "source": [
    "def print_model_info(mod):\n",
    "    for i in mod:\n",
    "        print(\"name{}\".format(i.name))\n",
    "        print(\"version{}\".format(i.version))\n",
    "        print(\"run_id{}\".format(i.run_id))\n",
    "        print(\"current_stage{}\".format(i.current_stage))"
   ]
  },
  {
   "cell_type": "code",
   "execution_count": 0,
   "metadata": {
    "application/vnd.databricks.v1+cell": {
     "cellMetadata": {
      "byteLimit": 2048000,
      "rowLimit": 10000
     },
     "inputWidgets": {},
     "nuid": "827f365b-0a8d-4403-be1e-f1594a2e82b4",
     "showTitle": false,
     "tableResultSettingsMap": {},
     "title": ""
    }
   },
   "outputs": [],
   "source": [
    "client=mlflow.tracking.MlflowClient()\n",
    "artifact_path=\"dbfs:/databricks/mlflow-tracking/2222958670772396/067e03eac67d44af9420bf0af22f6adf/artifacts/model-0.010000-0.010000/MLmodel\"\n",
    "try:\n",
    "    client.create_registered_model(model_name)\n",
    "except Exception as e:\n",
    "    pass\n",
    "model_version=client.create_model_version(model_name,artifact_path,best_run.run_id)\n"
   ]
  }
 ],
 "metadata": {
  "application/vnd.databricks.v1+notebook": {
   "computePreferences": null,
   "dashboards": [],
   "environmentMetadata": {
    "base_environment": "",
    "environment_version": "3"
   },
   "inputWidgetPreferences": null,
   "language": "python",
   "notebookMetadata": {
    "pythonIndentUnit": 4
   },
   "notebookName": "Model_Registry",
   "widgets": {}
  },
  "language_info": {
   "name": "python"
  }
 },
 "nbformat": 4,
 "nbformat_minor": 0
}
